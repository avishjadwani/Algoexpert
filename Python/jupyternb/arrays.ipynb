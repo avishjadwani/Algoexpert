{
 "cells": [
  {
   "cell_type": "markdown",
   "source": [
    "Q1 Two Number sum \n",
    "input : non empty array of distinct integers and an integers representing target sum\n",
    "output: array of numbers in the input that forms a target sum \n",
    "\n",
    "Assume: there will be at most 1 pair of numbers summing up to target "
   ],
   "metadata": {
    "collapsed": false
   },
   "id": "372e98853fea6b83"
  },
  {
   "cell_type": "code",
   "outputs": [],
   "source": [
    "def twonumbersum(array,targeetSum):\n",
    "    array.sort()\n",
    "    i=0\n",
    "    j=len(array)-1\n",
    "    while i <j:\n",
    "        if array[i]+array[j] > targeetSum:\n",
    "            j-=1\n",
    "        elif array[i]+array[j] < targeetSum:\n",
    "            i+=1\n",
    "        if array[i]+array[j]==targeetSum:\n",
    "            return [array[i],array[j]]\n",
    "    return []\n",
    "\n",
    " \n",
    "\n",
    "        "
   ],
   "metadata": {
    "collapsed": false,
    "ExecuteTime": {
     "end_time": "2024-01-27T22:35:24.079333Z",
     "start_time": "2024-01-27T22:35:24.075971Z"
    }
   },
   "id": "b616d84dce4acfaf",
   "execution_count": 37
  },
  {
   "cell_type": "markdown",
   "source": [
    "# Code Analysis\n",
    "\n",
    "Space Complexity:\n",
    "O(N)\n",
    "Time Complexity : \n",
    "O(N)"
   ],
   "metadata": {
    "collapsed": false
   },
   "id": "6734b900c37e9a33"
  },
  {
   "cell_type": "code",
   "outputs": [
    {
     "data": {
      "text/plain": "[-1, 11]"
     },
     "execution_count": 38,
     "metadata": {},
     "output_type": "execute_result"
    }
   ],
   "source": [
    "# TC1 \n",
    "# Expected: [-1, 11]\n",
    "twonumbersum([3,5,-4,8,11,1,-1,6],10)"
   ],
   "metadata": {
    "collapsed": false,
    "ExecuteTime": {
     "end_time": "2024-01-27T22:35:26.406492Z",
     "start_time": "2024-01-27T22:35:26.399543Z"
    }
   },
   "id": "97c5881cb4ec61c4",
   "execution_count": 38
  },
  {
   "cell_type": "code",
   "outputs": [
    {
     "data": {
      "text/plain": "[]"
     },
     "execution_count": 39,
     "metadata": {},
     "output_type": "execute_result"
    }
   ],
   "source": [
    "#TC2\n",
    "# Expected: []\n",
    "twonumbersum([],[])"
   ],
   "metadata": {
    "collapsed": false,
    "ExecuteTime": {
     "end_time": "2024-01-27T22:35:27.232185Z",
     "start_time": "2024-01-27T22:35:27.228914Z"
    }
   },
   "id": "8bd6350bd5476f9e",
   "execution_count": 39
  },
  {
   "cell_type": "code",
   "outputs": [
    {
     "data": {
      "text/plain": "[3, 15]"
     },
     "execution_count": 42,
     "metadata": {},
     "output_type": "execute_result"
    }
   ],
   "source": [
    "# TC3\n",
    "#Expected [3,15]\n",
    "twonumbersum([1,2,3,4,5,6,7,8,9,15], 18)"
   ],
   "metadata": {
    "collapsed": false,
    "ExecuteTime": {
     "end_time": "2024-01-27T22:37:00.238360Z",
     "start_time": "2024-01-27T22:37:00.233003Z"
    }
   },
   "id": "8f9f52dca0f0955f",
   "execution_count": 42
  },
  {
   "cell_type": "code",
   "outputs": [
    {
     "data": {
      "text/plain": "[-5, 0]"
     },
     "execution_count": 43,
     "metadata": {},
     "output_type": "execute_result"
    }
   ],
   "source": [
    "# TC 4\n",
    "# Expected [-5,0]\n",
    "twonumbersum([-7,-5,-3,-1,0,1,3,5,7], -5)"
   ],
   "metadata": {
    "collapsed": false,
    "ExecuteTime": {
     "end_time": "2024-01-27T22:38:16.623787Z",
     "start_time": "2024-01-27T22:38:16.620218Z"
    }
   },
   "id": "f9ad9b270e46351c",
   "execution_count": 43
  },
  {
   "cell_type": "code",
   "outputs": [
    {
     "data": {
      "text/plain": "[-47, 210]"
     },
     "execution_count": 44,
     "metadata": {},
     "output_type": "execute_result"
    }
   ],
   "source": [
    "# TC 5\n",
    "# Expected [-47,210]\n",
    "twonumbersum([-21,301,12,4,65,56,210,356,9,-47], 163)"
   ],
   "metadata": {
    "collapsed": false,
    "ExecuteTime": {
     "end_time": "2024-01-27T22:39:26.972851Z",
     "start_time": "2024-01-27T22:39:26.969809Z"
    }
   },
   "id": "3caade7ca4d6ad86",
   "execution_count": 44
  },
  {
   "cell_type": "code",
   "outputs": [
    {
     "data": {
      "text/plain": "[]"
     },
     "execution_count": 45,
     "metadata": {},
     "output_type": "execute_result"
    }
   ],
   "source": [
    "# TC 6\n",
    "# Expected []\n",
    "twonumbersum([-21,301,12,4,65,56,210,356,9,-47], 164)"
   ],
   "metadata": {
    "collapsed": false,
    "ExecuteTime": {
     "end_time": "2024-01-27T22:40:35.833987Z",
     "start_time": "2024-01-27T22:40:35.804021Z"
    }
   },
   "id": "ce54ec4e95d22f79",
   "execution_count": 45
  },
  {
   "cell_type": "code",
   "outputs": [],
   "source": [],
   "metadata": {
    "collapsed": false
   },
   "id": "4cc3ad88bec5e48a"
  }
 ],
 "metadata": {
  "kernelspec": {
   "display_name": "Python 3",
   "language": "python",
   "name": "python3"
  },
  "language_info": {
   "codemirror_mode": {
    "name": "ipython",
    "version": 2
   },
   "file_extension": ".py",
   "mimetype": "text/x-python",
   "name": "python",
   "nbconvert_exporter": "python",
   "pygments_lexer": "ipython2",
   "version": "2.7.6"
  }
 },
 "nbformat": 4,
 "nbformat_minor": 5
}
